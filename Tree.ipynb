{
 "cells": [
  {
   "cell_type": "markdown",
   "metadata": {},
   "source": [
    "# Binnary Serch Tree"
   ]
  },
  {
   "cell_type": "code",
   "execution_count": 47,
   "metadata": {},
   "outputs": [
    {
     "name": "stdout",
     "output_type": "stream",
     "text": [
      "10\n",
      "None\n",
      "None\n"
     ]
    }
   ],
   "source": [
    "class BST:\n",
    "    def __init__(self,key):\n",
    "        self.key = key\n",
    "        self.lchild = None\n",
    "        self.rchild = None\n",
    "        \n",
    "    def insert(self,data):\n",
    "        if self.key is None:\n",
    "            self.key = data\n",
    "            return\n",
    "        if self.key == data:\n",
    "            return\n",
    "        if self.key>data:\n",
    "            if self.lchild:\n",
    "                self.lchild.insert(data)\n",
    "            else:\n",
    "                self.lchild=BST(data)\n",
    "        else:\n",
    "            if self.rchild:\n",
    "                self.rchild.insert(data)\n",
    "            else:\n",
    "                self.rchild=BST(data)\n",
    "    def Search(self,data):\n",
    "        if self.key==data:\n",
    "            print('node is found!')\n",
    "            return\n",
    "        if data<self.key:\n",
    "            if self.lchild:\n",
    "                self.lchild.Search(data)\n",
    "            else:\n",
    "                print('Node is not present in tree!')\n",
    "        else:\n",
    "            if self.rchild:\n",
    "                self.rchild.Search(data)\n",
    "            else:\n",
    "                print('Node is not present in tree!')\n",
    "    def preorder(self):\n",
    "        print(self.key,end=' ')\n",
    "        if self.lchild:\n",
    "            self.lchild.preorder()\n",
    "        if self.rchild:\n",
    "            self.rchild.preorder()\n",
    "    def inorder(self):\n",
    "        if self.lchild:\n",
    "            self.lchild.inorder()\n",
    "        print(self.key,end=\" \")\n",
    "        if self.rchild:\n",
    "            self.rchild.inorder()\n",
    "     \n",
    "    def postorder(self):\n",
    "        if self.lchild:\n",
    "            self.lchild.postorder()\n",
    "        if self.rchild:\n",
    "            self.rchild.postorder()\n",
    "        print(self.key,end=\" \")    \n",
    "     \n",
    "    def delete(self,data):\n",
    "        if self.key is None:\n",
    "            print('tree is empty')\n",
    "            return\n",
    "        if data<self.key:\n",
    "            if self.lchild:\n",
    "                self.lchild=self.lchid.delete(data)\n",
    "            else:\n",
    "                print('data not present')\n",
    "        elif data>self.key:\n",
    "            if self.rchild:\n",
    "                self.rchild = self.rchild.delete(data)\n",
    "            else:\n",
    "                print('data is not present')\n",
    "        else:\n",
    "            if self.lchild is None:\n",
    "                temp = self.rchild\n",
    "                self = None\n",
    "                return temp\n",
    "            if self.rchild is None:\n",
    "                temp= self.lchild\n",
    "                self = None\n",
    "                return temp\n",
    "            node = self.rchild\n",
    "            if \n",
    "                \n",
    "            \n",
    "root=BST(10)\n",
    "print(root.key)\n",
    "print(root.lchild)\n",
    "print(root.rchild)\n",
    "        "
   ]
  },
  {
   "cell_type": "code",
   "execution_count": 48,
   "metadata": {},
   "outputs": [
    {
     "name": "stdout",
     "output_type": "stream",
     "text": [
      "10\n",
      "<__main__.BST object at 0x000001B82EE31780>\n",
      "None\n",
      "5\n",
      "None\n",
      "None\n"
     ]
    }
   ],
   "source": [
    "root.lchild=BST(5)\n",
    "print(root.key)\n",
    "print(root.lchild)\n",
    "print(root.rchild)\n",
    "print(root.lchild.key)\n",
    "print(root.lchild.lchild)\n",
    "print(root.lchild.rchild)\n"
   ]
  },
  {
   "cell_type": "code",
   "execution_count": 49,
   "metadata": {},
   "outputs": [
    {
     "name": "stdout",
     "output_type": "stream",
     "text": [
      "Node is not present in tree!\n"
     ]
    }
   ],
   "source": [
    "root = BST(20)\n",
    "list1 = [6,3,1,6,98,3,7]\n",
    "for i in list1:\n",
    "    root.insert(i)\n",
    "root.Search(60)    "
   ]
  },
  {
   "cell_type": "code",
   "execution_count": 50,
   "metadata": {},
   "outputs": [
    {
     "name": "stdout",
     "output_type": "stream",
     "text": [
      "node is found!\n"
     ]
    }
   ],
   "source": [
    "root.Search(6)"
   ]
  },
  {
   "cell_type": "code",
   "execution_count": 51,
   "metadata": {},
   "outputs": [
    {
     "name": "stdout",
     "output_type": "stream",
     "text": [
      "20 6 3 1 7 98 "
     ]
    }
   ],
   "source": [
    "root.preorder()"
   ]
  },
  {
   "cell_type": "code",
   "execution_count": 52,
   "metadata": {},
   "outputs": [
    {
     "name": "stdout",
     "output_type": "stream",
     "text": [
      "1 3 6 7 20 98 "
     ]
    }
   ],
   "source": [
    "root.inorder()"
   ]
  },
  {
   "cell_type": "code",
   "execution_count": 53,
   "metadata": {},
   "outputs": [
    {
     "name": "stdout",
     "output_type": "stream",
     "text": [
      "1 3 7 6 98 20 "
     ]
    }
   ],
   "source": [
    "root.postorder()"
   ]
  },
  {
   "cell_type": "code",
   "execution_count": null,
   "metadata": {},
   "outputs": [],
   "source": []
  },
  {
   "cell_type": "code",
   "execution_count": null,
   "metadata": {},
   "outputs": [],
   "source": []
  },
  {
   "cell_type": "code",
   "execution_count": null,
   "metadata": {},
   "outputs": [],
   "source": []
  }
 ],
 "metadata": {
  "kernelspec": {
   "display_name": "Python 3",
   "language": "python",
   "name": "python3"
  },
  "language_info": {
   "codemirror_mode": {
    "name": "ipython",
    "version": 3
   },
   "file_extension": ".py",
   "mimetype": "text/x-python",
   "name": "python",
   "nbconvert_exporter": "python",
   "pygments_lexer": "ipython3",
   "version": "3.7.3"
  }
 },
 "nbformat": 4,
 "nbformat_minor": 2
}
