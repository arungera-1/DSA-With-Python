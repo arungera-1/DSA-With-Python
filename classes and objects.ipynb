{
 "cells": [
  {
   "cell_type": "markdown",
   "metadata": {},
   "source": [
    "#classes and objects\n"
   ]
  },
  {
   "cell_type": "code",
   "execution_count": 23,
   "metadata": {},
   "outputs": [
    {
     "name": "stdout",
     "output_type": "stream",
     "text": [
      "function created\n"
     ]
    }
   ],
   "source": [
    "#create a class inpython\n",
    "class A:\n",
    "    def __init__(self):        \n",
    "        pass\n",
    "    def show(abc):\n",
    "        print(\"function created\")\n",
    "ob = A()\n",
    "ob.show()\n",
    "\n",
    "        "
   ]
  },
  {
   "cell_type": "code",
   "execution_count": 17,
   "metadata": {},
   "outputs": [
    {
     "ename": "NameError",
     "evalue": "name 'x' is not defined",
     "output_type": "error",
     "traceback": [
      "\u001b[1;31m---------------------------------------------------------------------------\u001b[0m",
      "\u001b[1;31mNameError\u001b[0m                                 Traceback (most recent call last)",
      "\u001b[1;32m<ipython-input-17-00b314fad322>\u001b[0m in \u001b[0;36m<module>\u001b[1;34m\u001b[0m\n\u001b[0;32m      5\u001b[0m     \u001b[1;32mdef\u001b[0m \u001b[0mshow\u001b[0m\u001b[1;33m(\u001b[0m\u001b[0mabc\u001b[0m\u001b[1;33m)\u001b[0m\u001b[1;33m:\u001b[0m\u001b[1;33m\u001b[0m\u001b[1;33m\u001b[0m\u001b[0m\n\u001b[0;32m      6\u001b[0m         \u001b[0mprint\u001b[0m\u001b[1;33m(\u001b[0m\u001b[1;34m\"function created\"\u001b[0m\u001b[1;33m,\u001b[0m\u001b[0mabc\u001b[0m\u001b[1;33m.\u001b[0m\u001b[0mname\u001b[0m\u001b[1;33m)\u001b[0m\u001b[1;33m\u001b[0m\u001b[1;33m\u001b[0m\u001b[0m\n\u001b[1;32m----> 7\u001b[1;33m \u001b[0mob\u001b[0m \u001b[1;33m=\u001b[0m \u001b[0mA\u001b[0m\u001b[1;33m(\u001b[0m\u001b[0mx\u001b[0m\u001b[1;33m,\u001b[0m\u001b[0my\u001b[0m\u001b[1;33m)\u001b[0m\u001b[1;33m\u001b[0m\u001b[1;33m\u001b[0m\u001b[0m\n\u001b[0m\u001b[0;32m      8\u001b[0m \u001b[0mob\u001b[0m\u001b[1;33m.\u001b[0m\u001b[0mname\u001b[0m\u001b[1;33m\u001b[0m\u001b[1;33m\u001b[0m\u001b[0m\n\u001b[0;32m      9\u001b[0m \u001b[1;33m\u001b[0m\u001b[0m\n",
      "\u001b[1;31mNameError\u001b[0m: name 'x' is not defined"
     ]
    }
   ],
   "source": [
    "class A:\n",
    "    def __init__(self,name,tech):        \n",
    "        self.name = \"python\"\n",
    "        self.tech = \"programing\"\n",
    "    def show(abc):\n",
    "        print(\"function created\",abc.name)\n",
    "ob = A(x,y)\n",
    "ob.name\n",
    "\n",
    "        "
   ]
  },
  {
   "cell_type": "markdown",
   "metadata": {},
   "source": [
    "# instance variables and class variable\n"
   ]
  },
  {
   "cell_type": "code",
   "execution_count": 31,
   "metadata": {},
   "outputs": [
    {
     "name": "stdout",
     "output_type": "stream",
     "text": [
      "the animal is Highly fatal\n",
      "the animal is  fatal\n"
     ]
    },
    {
     "data": {
      "text/plain": [
       "'reptiles'"
      ]
     },
     "execution_count": 31,
     "metadata": {},
     "output_type": "execute_result"
    }
   ],
   "source": [
    "class Animals:\n",
    "    name = \"snake\"\n",
    "    family = \"reptiles\"\n",
    "    place = \"swamp\"\n",
    "    def __init__(self,kills):\n",
    "        self.kills = kills\n",
    "    def show(self, fatality):\n",
    "        self.fatality = fatality\n",
    "        print(\"the animal is\", fatality)\n",
    "ob = Animals(20)\n",
    "ob.show(\"Highly fatal\")\n",
    "ob.name\n",
    "ob.family\n",
    "ob.place\n",
    "\n",
    "ob1 = Animals(20)\n",
    "ob1.show(\" fatal\")\n",
    "ob1.family\n"
   ]
  },
  {
   "cell_type": "code",
   "execution_count": 56,
   "metadata": {},
   "outputs": [
    {
     "name": "stdout",
     "output_type": "stream",
     "text": [
      "not found\n",
      "not found\n",
      "reptiles snake swamp\n"
     ]
    }
   ],
   "source": [
    "#zoo\n",
    "family = [\"reptiles\",\"amphibians\"]\n",
    "class zoo:\n",
    "    def __init__(self):\n",
    "        pass\n",
    "    def show_rep(self, name, place):\n",
    "        self.name = \"snake\"\n",
    "        self.place = place\n",
    "        for i in family:\n",
    "            if i == \"reptiles\" and self.name == \"snake\":\n",
    "                print(i,self.name,self.place)\n",
    "                break\n",
    "            else:\n",
    "                print(\"not found\")\n",
    "    def show_amp(self, name, place):\n",
    "        self.name = \"frog\"\n",
    "        self.place = place\n",
    "        for i in family:\n",
    "            if i == \"ampibians\" and self.name == \"frog\":\n",
    "                print(i,self.name,self.place)\n",
    "                break\n",
    "            else:\n",
    "                print(\"not found\")           \n",
    "                \n",
    "            \n",
    "\n",
    "ob = zoo()\n",
    "ob.show_amp(\"frog\", \"swamp\")\n",
    "ob.show_rep(\"snake\",\"swamp\")\n",
    "\n"
   ]
  },
  {
   "cell_type": "code",
   "execution_count": null,
   "metadata": {},
   "outputs": [],
   "source": []
  },
  {
   "cell_type": "code",
   "execution_count": null,
   "metadata": {},
   "outputs": [],
   "source": []
  }
 ],
 "metadata": {
  "kernelspec": {
   "display_name": "Python 3",
   "language": "python",
   "name": "python3"
  },
  "language_info": {
   "codemirror_mode": {
    "name": "ipython",
    "version": 3
   },
   "file_extension": ".py",
   "mimetype": "text/x-python",
   "name": "python",
   "nbconvert_exporter": "python",
   "pygments_lexer": "ipython3",
   "version": "3.7.3"
  }
 },
 "nbformat": 4,
 "nbformat_minor": 2
}
