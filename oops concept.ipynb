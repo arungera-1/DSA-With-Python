{
 "cells": [
  {
   "cell_type": "markdown",
   "metadata": {},
   "source": [
    "# OOPS CONCEPT\n"
   ]
  },
  {
   "cell_type": "code",
   "execution_count": 1,
   "metadata": {},
   "outputs": [],
   "source": [
    "#inheritance"
   ]
  },
  {
   "cell_type": "code",
   "execution_count": 2,
   "metadata": {},
   "outputs": [
    {
     "name": "stdout",
     "output_type": "stream",
     "text": [
      "this is a parent class function\n"
     ]
    }
   ],
   "source": [
    "#simple inheritance\n",
    "class parent:\n",
    "    def func(self):\n",
    "        print(\"this is a parent class function\")\n",
    "class child(parent):\n",
    "    def func1(self):\n",
    "        print(\"this is a child class function\")\n",
    "        \n",
    "ob = child()\n",
    "ob.func()"
   ]
  },
  {
   "cell_type": "code",
   "execution_count": 4,
   "metadata": {},
   "outputs": [
    {
     "name": "stdout",
     "output_type": "stream",
     "text": [
      "a\n",
      "b\n",
      "a and b\n"
     ]
    }
   ],
   "source": [
    "#multiple inheritance\n",
    "\n",
    "class parent1:\n",
    "    def func1(self):\n",
    "        print(\"a\")\n",
    "class parent2:\n",
    "    def func2(self):\n",
    "        print(\"b\")\n",
    "class child(parent1,parent2):\n",
    "    def show(self):\n",
    "        print(\"a and b\")\n",
    "ob = child()\n",
    "ob.func1()\n",
    "ob.func2()\n",
    "ob.show()\n",
    "\n",
    "        \n",
    "        "
   ]
  },
  {
   "cell_type": "code",
   "execution_count": 5,
   "metadata": {},
   "outputs": [],
   "source": [
    "#polymorphism"
   ]
  },
  {
   "cell_type": "code",
   "execution_count": 10,
   "metadata": {},
   "outputs": [
    {
     "name": "stdout",
     "output_type": "stream",
     "text": [
      "this is a parent class function\n",
      "c\n"
     ]
    }
   ],
   "source": [
    "class parent:\n",
    "    def func1(self):\n",
    "        print(\"this is a parent class function\")\n",
    "    def show(self):\n",
    "        print('b')\n",
    "class child(parent):\n",
    "    def show(self):\n",
    "        print(\"c\")\n",
    "        \n",
    "ob = child()\n",
    "ob.func1() \n",
    "ob.show()\n",
    "   \n",
    "       "
   ]
  },
  {
   "cell_type": "code",
   "execution_count": 11,
   "metadata": {},
   "outputs": [],
   "source": [
    "#encapsulation in python"
   ]
  },
  {
   "cell_type": "code",
   "execution_count": 14,
   "metadata": {},
   "outputs": [
    {
     "name": "stdout",
     "output_type": "stream",
     "text": [
      "this is a private number function\n"
     ]
    }
   ],
   "source": [
    "class Example:\n",
    "    def __init__(self,name):\n",
    "        self.name = name \n",
    "    def __show(self):\n",
    "        print(\"this is a private number function\")\n",
    "ob = Example(\"python\")   \n",
    "ob.name\n",
    "ob._Example__show()\n",
    "    \n",
    "    \n",
    "    \n",
    "    \n",
    "    \n",
    "    \n",
    "    "
   ]
  },
  {
   "cell_type": "code",
   "execution_count": 15,
   "metadata": {},
   "outputs": [],
   "source": [
    "#abstraction"
   ]
  },
  {
   "cell_type": "code",
   "execution_count": 16,
   "metadata": {},
   "outputs": [],
   "source": [
    "from abc import ABC"
   ]
  },
  {
   "cell_type": "code",
   "execution_count": 20,
   "metadata": {},
   "outputs": [
    {
     "name": "stdout",
     "output_type": "stream",
     "text": [
      "abc\n",
      "xyz\n",
      "this is an abstract class\n",
      "this is an abstract class\n"
     ]
    }
   ],
   "source": [
    "class parent(ABC):\n",
    "    def func(self):\n",
    "        pass\n",
    "    def intro(self):\n",
    "        print(\"this is an abstract class\")\n",
    "class child(parent):\n",
    "    def func(self):\n",
    "        print(\"abc\")\n",
    "class child1(parent):\n",
    "    def func(self):\n",
    "        print(\"xyz\")\n",
    "ob = child()\n",
    "ob1 = child1()\n",
    "ob.func()\n",
    "ob1.func()\n",
    "ob.intro()\n",
    "ob1.intro()\n",
    "\n"
   ]
  },
  {
   "cell_type": "code",
   "execution_count": 1,
   "metadata": {},
   "outputs": [
    {
     "name": "stdout",
     "output_type": "stream",
     "text": [
      "20 ---> 10 ---> 100 ---> "
     ]
    }
   ],
   "source": [
    "class Node:\n",
    "    def __init__(self,data):\n",
    "        self.data = data\n",
    "        self.ref = None\n",
    "class Linkedlist:\n",
    "    def __init__(self):\n",
    "        self.head = None\n",
    "    def print_LL(self):\n",
    "        if self.head is None:\n",
    "            print(\"linked list is empty\")\n",
    "        else:\n",
    "            n=self.head\n",
    "            while n is not None:\n",
    "                print(n.data,\"--->\",end=' ')\n",
    "                n=n.ref\n",
    "                \n",
    "    def add_begin(self,data):\n",
    "        new_node=Node(data)\n",
    "        new_node.ref=self.head\n",
    "        self.head=new_node\n",
    "        \n",
    "    def add_end(self,data):\n",
    "        new_node=Node(data)\n",
    "        if self.head is None:\n",
    "            self.head=new_node\n",
    "        else:\n",
    "            n=self.head\n",
    "            while n.ref is not None:\n",
    "                n=n.ref\n",
    "            n.ref=new_node  \n",
    "    def add_after(self,data,x):\n",
    "        n=self.head\n",
    "        while n is not None:\n",
    "            if x==n.data:\n",
    "                break   \n",
    "            n=n.ref\n",
    "        if n is None:\n",
    "            print(\"node is not present in LL\")\n",
    "        else:\n",
    "            new_node=Node(data)\n",
    "            new_node.ref=n.ref\n",
    "            n.ref=new_node.ref\n",
    "LL1=Linkedlist()\n",
    "LL1.add_begin(10)\n",
    "LL1.add_end(100)\n",
    "LL1.add_begin(20)\n",
    "LL1.add_after(240,100)\n",
    "LL1.print_LL()\n",
    "\n",
    "            "
   ]
  },
  {
   "cell_type": "code",
   "execution_count": null,
   "metadata": {},
   "outputs": [],
   "source": []
  }
 ],
 "metadata": {
  "kernelspec": {
   "display_name": "Python 3",
   "language": "python",
   "name": "python3"
  },
  "language_info": {
   "codemirror_mode": {
    "name": "ipython",
    "version": 3
   },
   "file_extension": ".py",
   "mimetype": "text/x-python",
   "name": "python",
   "nbconvert_exporter": "python",
   "pygments_lexer": "ipython3",
   "version": "3.7.3"
  }
 },
 "nbformat": 4,
 "nbformat_minor": 2
}
